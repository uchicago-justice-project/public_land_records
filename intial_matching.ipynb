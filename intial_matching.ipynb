{
 "cells": [
  {
   "cell_type": "code",
   "execution_count": 22,
   "id": "f9fba715",
   "metadata": {},
   "outputs": [],
   "source": [
    "import geopandas\n",
    "import pandas as pd\n",
    "import numpy as np\n",
    "from shapely.ops import unary_union"
   ]
  },
  {
   "cell_type": "code",
   "execution_count": 23,
   "id": "2c9e1b69",
   "metadata": {},
   "outputs": [],
   "source": [
    "gdf = geopandas.read_file(\"lots.geojson\")"
   ]
  },
  {
   "cell_type": "code",
   "execution_count": 24,
   "id": "575b4c2b",
   "metadata": {},
   "outputs": [],
   "source": [
    "df = pd.read_csv('cook_county_cleaned3.csv')"
   ]
  },
  {
   "cell_type": "code",
   "execution_count": 25,
   "id": "e7a712e7",
   "metadata": {},
   "outputs": [
    {
     "data": {
      "text/html": [
       "<div>\n",
       "<style scoped>\n",
       "    .dataframe tbody tr th:only-of-type {\n",
       "        vertical-align: middle;\n",
       "    }\n",
       "\n",
       "    .dataframe tbody tr th {\n",
       "        vertical-align: top;\n",
       "    }\n",
       "\n",
       "    .dataframe thead th {\n",
       "        text-align: right;\n",
       "    }\n",
       "</style>\n",
       "<table border=\"1\" class=\"dataframe\">\n",
       "  <thead>\n",
       "    <tr style=\"text-align: right;\">\n",
       "      <th></th>\n",
       "      <th>Unnamed: 0</th>\n",
       "      <th>Cleaned Name</th>\n",
       "      <th>Purchaser</th>\n",
       "      <th>Residence</th>\n",
       "      <th>Social Status</th>\n",
       "      <th>Aliquot Parts or Lot</th>\n",
       "      <th>Section Number</th>\n",
       "      <th>Township</th>\n",
       "      <th>Range</th>\n",
       "      <th>Meridian</th>\n",
       "      <th>...</th>\n",
       "      <th>Total Price</th>\n",
       "      <th>Type of Sale</th>\n",
       "      <th>Date of Purchase</th>\n",
       "      <th>Volume</th>\n",
       "      <th>Page</th>\n",
       "      <th>Shapefile Object ID</th>\n",
       "      <th>Voided</th>\n",
       "      <th>Lot Matches</th>\n",
       "      <th>Name Matches</th>\n",
       "      <th>Duplicate</th>\n",
       "    </tr>\n",
       "  </thead>\n",
       "  <tbody>\n",
       "    <tr>\n",
       "      <th>0</th>\n",
       "      <td>0</td>\n",
       "      <td>ABBE CHRISTIAN</td>\n",
       "      <td>ABBE CHRISTIAN</td>\n",
       "      <td>UNKNOWN</td>\n",
       "      <td>A</td>\n",
       "      <td>LOT2NWNE</td>\n",
       "      <td>16.0</td>\n",
       "      <td>36N</td>\n",
       "      <td>13E</td>\n",
       "      <td>3.0</td>\n",
       "      <td>...</td>\n",
       "      <td>160.08</td>\n",
       "      <td>SC</td>\n",
       "      <td>09/01/1852</td>\n",
       "      <td>819</td>\n",
       "      <td>64</td>\n",
       "      <td>8570.0</td>\n",
       "      <td>False</td>\n",
       "      <td>NaN</td>\n",
       "      <td>0</td>\n",
       "      <td>False</td>\n",
       "    </tr>\n",
       "    <tr>\n",
       "      <th>1</th>\n",
       "      <td>1</td>\n",
       "      <td>ABBOTT ALLISON</td>\n",
       "      <td>ABBOTT ALLISON</td>\n",
       "      <td>UNKNOWN</td>\n",
       "      <td>A</td>\n",
       "      <td>LOT1SW</td>\n",
       "      <td>6.0</td>\n",
       "      <td>40N</td>\n",
       "      <td>13E</td>\n",
       "      <td>3.0</td>\n",
       "      <td>...</td>\n",
       "      <td>99.65</td>\n",
       "      <td>FD</td>\n",
       "      <td>02/17/1841</td>\n",
       "      <td>687</td>\n",
       "      <td>191</td>\n",
       "      <td>4828.0</td>\n",
       "      <td>False</td>\n",
       "      <td>NaN</td>\n",
       "      <td>1</td>\n",
       "      <td>False</td>\n",
       "    </tr>\n",
       "    <tr>\n",
       "      <th>2</th>\n",
       "      <td>2</td>\n",
       "      <td>ABBOTT JOSEPH</td>\n",
       "      <td>ABBOTT JOSEPH</td>\n",
       "      <td>UNKNOWN</td>\n",
       "      <td>NaN</td>\n",
       "      <td>NWSW</td>\n",
       "      <td>3.0</td>\n",
       "      <td>37N</td>\n",
       "      <td>12E</td>\n",
       "      <td>3.0</td>\n",
       "      <td>...</td>\n",
       "      <td>360</td>\n",
       "      <td>CN</td>\n",
       "      <td>05/09/1853</td>\n",
       "      <td>L7A</td>\n",
       "      <td>180</td>\n",
       "      <td>7367.0</td>\n",
       "      <td>False</td>\n",
       "      <td>2</td>\n",
       "      <td>2</td>\n",
       "      <td>False</td>\n",
       "    </tr>\n",
       "    <tr>\n",
       "      <th>3</th>\n",
       "      <td>3</td>\n",
       "      <td>ABBOTT SAMUEL S</td>\n",
       "      <td>ABBOTT SAMUEL</td>\n",
       "      <td>UNKNOWN</td>\n",
       "      <td>NaN</td>\n",
       "      <td>SW</td>\n",
       "      <td>14.0</td>\n",
       "      <td>40N</td>\n",
       "      <td>13E</td>\n",
       "      <td>3.0</td>\n",
       "      <td>...</td>\n",
       "      <td>200</td>\n",
       "      <td>FD</td>\n",
       "      <td>11/27/1838</td>\n",
       "      <td>687</td>\n",
       "      <td>194</td>\n",
       "      <td>5097.0</td>\n",
       "      <td>False</td>\n",
       "      <td>NaN</td>\n",
       "      <td>3;4</td>\n",
       "      <td>False</td>\n",
       "    </tr>\n",
       "    <tr>\n",
       "      <th>4</th>\n",
       "      <td>4</td>\n",
       "      <td>ABBOTT SAMUEL S</td>\n",
       "      <td>ABBOTT SAMUEL S</td>\n",
       "      <td>UNKNOWN</td>\n",
       "      <td>NaN</td>\n",
       "      <td>SE</td>\n",
       "      <td>15.0</td>\n",
       "      <td>40N</td>\n",
       "      <td>13E</td>\n",
       "      <td>3.0</td>\n",
       "      <td>...</td>\n",
       "      <td>200</td>\n",
       "      <td>FD</td>\n",
       "      <td>11/17/1838</td>\n",
       "      <td>687</td>\n",
       "      <td>194</td>\n",
       "      <td>5100.0</td>\n",
       "      <td>False</td>\n",
       "      <td>NaN</td>\n",
       "      <td>3;4</td>\n",
       "      <td>False</td>\n",
       "    </tr>\n",
       "  </tbody>\n",
       "</table>\n",
       "<p>5 rows × 23 columns</p>\n",
       "</div>"
      ],
      "text/plain": [
       "   Unnamed: 0     Cleaned Name        Purchaser Residence Social Status  \\\n",
       "0           0   ABBE CHRISTIAN   ABBE CHRISTIAN   UNKNOWN             A   \n",
       "1           1   ABBOTT ALLISON   ABBOTT ALLISON   UNKNOWN             A   \n",
       "2           2    ABBOTT JOSEPH    ABBOTT JOSEPH   UNKNOWN           NaN   \n",
       "3           3  ABBOTT SAMUEL S    ABBOTT SAMUEL   UNKNOWN           NaN   \n",
       "4           4  ABBOTT SAMUEL S  ABBOTT SAMUEL S   UNKNOWN           NaN   \n",
       "\n",
       "  Aliquot Parts or Lot  Section Number Township Range  Meridian  ...  \\\n",
       "0             LOT2NWNE            16.0      36N   13E       3.0  ...   \n",
       "1               LOT1SW             6.0      40N   13E       3.0  ...   \n",
       "2                 NWSW             3.0      37N   12E       3.0  ...   \n",
       "3                   SW            14.0      40N   13E       3.0  ...   \n",
       "4                   SE            15.0      40N   13E       3.0  ...   \n",
       "\n",
       "  Total Price Type of Sale Date of Purchase Volume Page Shapefile Object ID  \\\n",
       "0      160.08           SC       09/01/1852    819   64              8570.0   \n",
       "1       99.65           FD       02/17/1841    687  191              4828.0   \n",
       "2         360           CN       05/09/1853    L7A  180              7367.0   \n",
       "3         200           FD       11/27/1838    687  194              5097.0   \n",
       "4         200           FD       11/17/1838    687  194              5100.0   \n",
       "\n",
       "  Voided  Lot Matches  Name Matches  Duplicate  \n",
       "0  False          NaN             0      False  \n",
       "1  False          NaN             1      False  \n",
       "2  False            2             2      False  \n",
       "3  False          NaN           3;4      False  \n",
       "4  False          NaN           3;4      False  \n",
       "\n",
       "[5 rows x 23 columns]"
      ]
     },
     "execution_count": 25,
     "metadata": {},
     "output_type": "execute_result"
    }
   ],
   "source": [
    "df.head()"
   ]
  },
  {
   "cell_type": "code",
   "execution_count": 26,
   "id": "ce76764c",
   "metadata": {},
   "outputs": [
    {
     "data": {
      "text/html": [
       "<div>\n",
       "<style scoped>\n",
       "    .dataframe tbody tr th:only-of-type {\n",
       "        vertical-align: middle;\n",
       "    }\n",
       "\n",
       "    .dataframe tbody tr th {\n",
       "        vertical-align: top;\n",
       "    }\n",
       "\n",
       "    .dataframe thead th {\n",
       "        text-align: right;\n",
       "    }\n",
       "</style>\n",
       "<table border=\"1\" class=\"dataframe\">\n",
       "  <thead>\n",
       "    <tr style=\"text-align: right;\">\n",
       "      <th></th>\n",
       "      <th>TWPNUM</th>\n",
       "      <th>RNGNUM</th>\n",
       "      <th>SECTION</th>\n",
       "      <th>PART</th>\n",
       "      <th>INDIAN_BOUNDARY</th>\n",
       "      <th>SECTION_OBJECTID</th>\n",
       "      <th>MERIDIAN</th>\n",
       "      <th>RNGDIR</th>\n",
       "      <th>TWPDIR</th>\n",
       "      <th>geometry</th>\n",
       "    </tr>\n",
       "  </thead>\n",
       "  <tbody>\n",
       "    <tr>\n",
       "      <th>0</th>\n",
       "      <td>42</td>\n",
       "      <td>9</td>\n",
       "      <td>5</td>\n",
       "      <td>SWSW</td>\n",
       "      <td></td>\n",
       "      <td>3397</td>\n",
       "      <td>3</td>\n",
       "      <td>E</td>\n",
       "      <td>N</td>\n",
       "      <td>POLYGON ((-88.21927 42.13920, -88.21925 42.142...</td>\n",
       "    </tr>\n",
       "    <tr>\n",
       "      <th>1</th>\n",
       "      <td>42</td>\n",
       "      <td>9</td>\n",
       "      <td>5</td>\n",
       "      <td>SWSE</td>\n",
       "      <td></td>\n",
       "      <td>3397</td>\n",
       "      <td>3</td>\n",
       "      <td>E</td>\n",
       "      <td>N</td>\n",
       "      <td>POLYGON ((-88.21441 42.14294, -88.20955 42.142...</td>\n",
       "    </tr>\n",
       "    <tr>\n",
       "      <th>2</th>\n",
       "      <td>42</td>\n",
       "      <td>9</td>\n",
       "      <td>5</td>\n",
       "      <td>SESW</td>\n",
       "      <td></td>\n",
       "      <td>3397</td>\n",
       "      <td>3</td>\n",
       "      <td>E</td>\n",
       "      <td>N</td>\n",
       "      <td>POLYGON ((-88.20955 42.14294, -88.20468 42.142...</td>\n",
       "    </tr>\n",
       "    <tr>\n",
       "      <th>3</th>\n",
       "      <td>42</td>\n",
       "      <td>9</td>\n",
       "      <td>5</td>\n",
       "      <td>SESE</td>\n",
       "      <td></td>\n",
       "      <td>3397</td>\n",
       "      <td>3</td>\n",
       "      <td>E</td>\n",
       "      <td>N</td>\n",
       "      <td>POLYGON ((-88.20468 42.14294, -88.19983 42.142...</td>\n",
       "    </tr>\n",
       "    <tr>\n",
       "      <th>4</th>\n",
       "      <td>42</td>\n",
       "      <td>9</td>\n",
       "      <td>5</td>\n",
       "      <td>SWNW</td>\n",
       "      <td></td>\n",
       "      <td>3397</td>\n",
       "      <td>3</td>\n",
       "      <td>E</td>\n",
       "      <td>N</td>\n",
       "      <td>POLYGON ((-88.21923 42.14671, -88.21441 42.146...</td>\n",
       "    </tr>\n",
       "  </tbody>\n",
       "</table>\n",
       "</div>"
      ],
      "text/plain": [
       "   TWPNUM  RNGNUM  SECTION  PART INDIAN_BOUNDARY SECTION_OBJECTID  MERIDIAN  \\\n",
       "0      42       9        5  SWSW                             3397         3   \n",
       "1      42       9        5  SWSE                             3397         3   \n",
       "2      42       9        5  SESW                             3397         3   \n",
       "3      42       9        5  SESE                             3397         3   \n",
       "4      42       9        5  SWNW                             3397         3   \n",
       "\n",
       "  RNGDIR TWPDIR                                           geometry  \n",
       "0      E      N  POLYGON ((-88.21927 42.13920, -88.21925 42.142...  \n",
       "1      E      N  POLYGON ((-88.21441 42.14294, -88.20955 42.142...  \n",
       "2      E      N  POLYGON ((-88.20955 42.14294, -88.20468 42.142...  \n",
       "3      E      N  POLYGON ((-88.20468 42.14294, -88.19983 42.142...  \n",
       "4      E      N  POLYGON ((-88.21923 42.14671, -88.21441 42.146...  "
      ]
     },
     "execution_count": 26,
     "metadata": {},
     "output_type": "execute_result"
    }
   ],
   "source": [
    "gdf.head()"
   ]
  },
  {
   "cell_type": "code",
   "execution_count": 27,
   "id": "164f1f69",
   "metadata": {},
   "outputs": [],
   "source": [
    "for col in ['TWPNUM', 'RNGNUM', \"SECTION\"]:\n",
    "    gdf[col] = gdf[col].astype(int)"
   ]
  },
  {
   "cell_type": "code",
   "execution_count": 28,
   "id": "c1f2d207",
   "metadata": {},
   "outputs": [],
   "source": [
    "df.loc[df['Aliquot Parts or Lot'].str.contains('NIBL'), \"IBL\"] = 'N'\n",
    "df.loc[df['Aliquot Parts or Lot'].str.contains('SIBL'), \"IBL\"] = 'S'\n",
    "df.loc[df['IBL'].isnull(), \"IBL\"] = ''"
   ]
  },
  {
   "cell_type": "code",
   "execution_count": 29,
   "id": "fc6f0c72",
   "metadata": {},
   "outputs": [
    {
     "name": "stdout",
     "output_type": "stream",
     "text": [
      "ST\n"
     ]
    }
   ],
   "source": [
    "test = \"TESTVOIDVOTB\"\n",
    "to_strip = ['2', '4', 'VOID', 'VO', \"V\", 'PRA', 'FR', 'TB', \"MA\", \"TE\", 'NIBL', 'SIBL']\n",
    "\n",
    "for string in to_strip:\n",
    "    test = test.replace(string, \"\")\n",
    "    \n",
    "print(test)"
   ]
  },
  {
   "cell_type": "code",
   "execution_count": 30,
   "id": "5fa29ce7",
   "metadata": {},
   "outputs": [],
   "source": [
    "def strip_common_strings(lot):\n",
    "    for string in to_strip:\n",
    "        lot = lot.replace(string, \"\")\n",
    "    \n",
    "    return lot"
   ]
  },
  {
   "cell_type": "code",
   "execution_count": 31,
   "id": "fa33ef1b",
   "metadata": {},
   "outputs": [],
   "source": [
    "new_lots = df['Aliquot Parts or Lot'].apply(strip_common_strings)"
   ]
  },
  {
   "cell_type": "code",
   "execution_count": 32,
   "id": "e63d558a",
   "metadata": {},
   "outputs": [
    {
     "data": {
      "text/plain": [
       "0         LOTNWNE\n",
       "1          LOT1SW\n",
       "2            NWSW\n",
       "3              SW\n",
       "4              SE\n",
       "           ...   \n",
       "12280        NWNE\n",
       "12281        NENE\n",
       "12282        NWNE\n",
       "12283    LOT1SESW\n",
       "12284     ELOT1NW\n",
       "Name: Aliquot Parts or Lot, Length: 12285, dtype: object"
      ]
     },
     "execution_count": 32,
     "metadata": {},
     "output_type": "execute_result"
    }
   ],
   "source": [
    "new_lots"
   ]
  },
  {
   "cell_type": "code",
   "execution_count": 33,
   "id": "2fc806aa",
   "metadata": {},
   "outputs": [],
   "source": [
    "df['part'] = new_lots"
   ]
  },
  {
   "cell_type": "code",
   "execution_count": 34,
   "id": "bd71d4b3",
   "metadata": {},
   "outputs": [],
   "source": [
    "class TooManyMatches(Exception):\n",
    "    pass\n",
    "\n",
    "class NoMatch(Exception):\n",
    "    pass"
   ]
  },
  {
   "cell_type": "code",
   "execution_count": 35,
   "id": "58d9712b",
   "metadata": {},
   "outputs": [],
   "source": [
    "def get_part_geometry(row, lot):\n",
    "    twp = int(row['Township'][:-1])\n",
    "    rng = int(row[\"Range\"][:-1])\n",
    "    sect = int(row['Section Number'])\n",
    "\n",
    "    geometries = gdf.loc[(gdf['TWPNUM'] == twp)\\\n",
    "      &(gdf['RNGNUM'] == rng)\\\n",
    "      &(gdf['SECTION'] == sect)\\\n",
    "      &(gdf[\"PART\"] == lot)\n",
    "      &(gdf['INDIAN_BOUNDARY'] == row['IBL']),\\\n",
    "      'geometry'\n",
    "     ].values\n",
    "\n",
    "    if len(geometries) > 1:\n",
    "        print(row)\n",
    "        print(lot)\n",
    "        raise TooManyMatches\n",
    "        \n",
    "    if len(geometries) < 1:\n",
    "        raise NoMatch\n",
    "    \n",
    "    return geometries[0]\n",
    "    \n",
    "\n",
    "def get_parts(row):\n",
    "    legit_sections = ['NW', \"NE\", \"SW\", \"SE\"]\n",
    "    legit_directions = {'N' : ['NE', \"NW\"], \"E\": ['NE', \"SE\"], \"S\": ['SE', 'SW'], \"W\": ['NW', 'SW']}\n",
    "    part = row['part']\n",
    "\n",
    "    try:\n",
    "        if len(part) > 1 and len(part) < 5:\n",
    "            first_sect = part[-2:] \n",
    "\n",
    "            if first_sect not in legit_sections:\n",
    "                return None\n",
    "\n",
    "            if len(part) == 4:\n",
    "                last_sect = part[:-2]\n",
    "\n",
    "                if last_sect not in legit_sections:\n",
    "                    return None\n",
    "\n",
    "                return get_part_geometry(row, first_sect + last_sect)\n",
    "\n",
    "\n",
    "            if len(part) == 3:\n",
    "                direc = part[0]\n",
    "                last_sects = legit_directions.get(direc)\n",
    "\n",
    "                if last_sects:  \n",
    "                    geometries = [get_part_geometry(row, first_sect + last_sect) for last_sect in last_sects]                    \n",
    "                    return unary_union(geometries)\n",
    "\n",
    "            if len(part) == 2:\n",
    "                geometries = [get_part_geometry(row, first_sect + last_sect) for last_sect in legit_sections]\n",
    "                return unary_union(geometries)\n",
    "            \n",
    "        elif len(part) == 1:\n",
    "            first_sects = legit_directions.get(part)\n",
    "            geometries = []\n",
    "            for first_sect in first_sects:\n",
    "                for last_sect in legit_sections:\n",
    "                    geometries.append(get_part_geometry(row, first_sect+last_sect))\n",
    "                        \n",
    "            return unary_union(geometries)\n",
    "        \n",
    "        elif row['Aliquot Parts or Lot'] in ['SEC', 'SECMA']:\n",
    "            geometries = []\n",
    "            for first_sect in legit_sections:\n",
    "                for last_sect in legit_sections:\n",
    "                    geometries.append(get_part_geometry(row, first_sect+last_sect))\n",
    "            \n",
    "            return geometries\n",
    "                \n",
    "    except NoMatch:\n",
    "        return None\n",
    "    \n",
    "    \n",
    "    return None\n",
    "    "
   ]
  },
  {
   "cell_type": "code",
   "execution_count": 36,
   "id": "6bcd44a3",
   "metadata": {},
   "outputs": [
    {
     "name": "stderr",
     "output_type": "stream",
     "text": [
      "/usr/local/lib/python3.9/site-packages/pandas/core/dtypes/cast.py:1983: ShapelyDeprecationWarning: __len__ for multi-part geometries is deprecated and will be removed in Shapely 2.0. Check the length of the `geoms` property instead to get the  number of parts of a multi-part geometry.\n",
      "  result[:] = values\n"
     ]
    }
   ],
   "source": [
    "geometries = df.apply(get_parts, axis=1)"
   ]
  },
  {
   "cell_type": "code",
   "execution_count": 37,
   "id": "0fc498df",
   "metadata": {},
   "outputs": [],
   "source": [
    "df['geometry'] = geometries"
   ]
  },
  {
   "cell_type": "code",
   "execution_count": 38,
   "id": "1939c667",
   "metadata": {},
   "outputs": [],
   "source": [
    "df.to_csv(\"cook_county_with_geometries.csv\")"
   ]
  },
  {
   "cell_type": "code",
   "execution_count": 39,
   "id": "1630584b",
   "metadata": {},
   "outputs": [
    {
     "data": {
      "text/plain": [
       "12285"
      ]
     },
     "execution_count": 39,
     "metadata": {},
     "output_type": "execute_result"
    }
   ],
   "source": [
    "len(df)"
   ]
  },
  {
   "cell_type": "code",
   "execution_count": 40,
   "id": "fda9746d",
   "metadata": {},
   "outputs": [
    {
     "data": {
      "text/plain": [
       "7035"
      ]
     },
     "execution_count": 40,
     "metadata": {},
     "output_type": "execute_result"
    }
   ],
   "source": [
    "len(df.loc[df['geometry'].notnull()])"
   ]
  },
  {
   "cell_type": "code",
   "execution_count": 41,
   "id": "4053101f",
   "metadata": {},
   "outputs": [
    {
     "data": {
      "text/plain": [
       "Unnamed: 0                int64\n",
       "Cleaned Name             object\n",
       "Purchaser                object\n",
       "Residence                object\n",
       "Social Status            object\n",
       "Aliquot Parts or Lot     object\n",
       "Section Number          float64\n",
       "Township                 object\n",
       "Range                    object\n",
       "Meridian                float64\n",
       "County of Purchase       object\n",
       "Acres                    object\n",
       "Price per Acre           object\n",
       "Total Price              object\n",
       "Type of Sale             object\n",
       "Date of Purchase         object\n",
       "Volume                   object\n",
       "Page                      int64\n",
       "Shapefile Object ID     float64\n",
       "Voided                     bool\n",
       "Lot Matches              object\n",
       "Name Matches             object\n",
       "Duplicate                  bool\n",
       "IBL                      object\n",
       "part                     object\n",
       "geometry                 object\n",
       "dtype: object"
      ]
     },
     "execution_count": 41,
     "metadata": {},
     "output_type": "execute_result"
    }
   ],
   "source": [
    "df.dtypes"
   ]
  },
  {
   "cell_type": "code",
   "execution_count": 42,
   "id": "b98937d5",
   "metadata": {},
   "outputs": [],
   "source": [
    "newgdf = geopandas.GeoDataFrame(df)\n",
    "\n",
    "newgdf.to_file(\"cook_county_with_geometries.geojson\", driver=\"GeoJSON\")"
   ]
  },
  {
   "cell_type": "code",
   "execution_count": null,
   "id": "486f2bed",
   "metadata": {},
   "outputs": [],
   "source": []
  }
 ],
 "metadata": {
  "kernelspec": {
   "display_name": "Python 3 (ipykernel)",
   "language": "python",
   "name": "python3"
  },
  "language_info": {
   "codemirror_mode": {
    "name": "ipython",
    "version": 3
   },
   "file_extension": ".py",
   "mimetype": "text/x-python",
   "name": "python",
   "nbconvert_exporter": "python",
   "pygments_lexer": "ipython3",
   "version": "3.9.12"
  }
 },
 "nbformat": 4,
 "nbformat_minor": 5
}
