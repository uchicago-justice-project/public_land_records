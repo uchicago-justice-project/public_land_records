{
 "cells": [
  {
   "cell_type": "code",
   "execution_count": 1,
   "id": "f950db62",
   "metadata": {},
   "outputs": [],
   "source": [
    "import pandas as pd\n",
    "import geopandas as gpd\n",
    "from shapely import geometry"
   ]
  },
  {
   "cell_type": "code",
   "execution_count": 2,
   "id": "9c762016",
   "metadata": {},
   "outputs": [],
   "source": [
    "buildings = pd.read_stata(\"../data/harvard_data/BUILDING_LV.dta\")"
   ]
  },
  {
   "cell_type": "code",
   "execution_count": 3,
   "id": "bf11b703",
   "metadata": {},
   "outputs": [],
   "source": [
    "extraspace = pd.read_stata(\"../data/harvard_data/CONSTR_EXTRASPACE.dta\")\n",
    "world = pd.read_stata(\"../data/harvard_data/CONSTR_WORLD.dta\")\n",
    "engineering = pd.read_stata(\"../data/harvard_data/ENGINEERING_DATA.dta\")"
   ]
  },
  {
   "cell_type": "code",
   "execution_count": 4,
   "id": "c364c949",
   "metadata": {},
   "outputs": [],
   "source": [
    "grid_long = pd.read_stata(\"../data/harvard_data/GRID_LONG.dta\")\n",
    "grid_wide = pd.read_stata(\"../data/harvard_data/GRID_WIDE.dta\")\n",
    "pin = pd.read_stata(\"../data/harvard_data/PIN_USING.dta\")"
   ]
  },
  {
   "cell_type": "code",
   "execution_count": 5,
   "id": "52e182f4",
   "metadata": {},
   "outputs": [
    {
     "data": {
      "text/html": [
       "<div>\n",
       "<style scoped>\n",
       "    .dataframe tbody tr th:only-of-type {\n",
       "        vertical-align: middle;\n",
       "    }\n",
       "\n",
       "    .dataframe tbody tr th {\n",
       "        vertical-align: top;\n",
       "    }\n",
       "\n",
       "    .dataframe thead th {\n",
       "        text-align: right;\n",
       "    }\n",
       "</style>\n",
       "<table border=\"1\" class=\"dataframe\">\n",
       "  <thead>\n",
       "    <tr style=\"text-align: right;\">\n",
       "      <th></th>\n",
       "      <th>pin_12</th>\n",
       "      <th>pin</th>\n",
       "      <th>yrbuilt</th>\n",
       "      <th>cc</th>\n",
       "      <th>lLV</th>\n",
       "      <th>lFSI</th>\n",
       "    </tr>\n",
       "  </thead>\n",
       "  <tbody>\n",
       "    <tr>\n",
       "      <th>0</th>\n",
       "      <td>1.331307e+13</td>\n",
       "      <td>1.331307e+09</td>\n",
       "      <td>1925.0</td>\n",
       "      <td>1920.0</td>\n",
       "      <td>-0.510826</td>\n",
       "      <td>-1.403821</td>\n",
       "    </tr>\n",
       "    <tr>\n",
       "      <th>1</th>\n",
       "      <td>1.331124e+13</td>\n",
       "      <td>1.331124e+09</td>\n",
       "      <td>1995.0</td>\n",
       "      <td>1990.0</td>\n",
       "      <td>2.174752</td>\n",
       "      <td>0.151158</td>\n",
       "    </tr>\n",
       "    <tr>\n",
       "      <th>2</th>\n",
       "      <td>1.331124e+13</td>\n",
       "      <td>1.331124e+09</td>\n",
       "      <td>1997.0</td>\n",
       "      <td>1990.0</td>\n",
       "      <td>2.174752</td>\n",
       "      <td>0.140062</td>\n",
       "    </tr>\n",
       "    <tr>\n",
       "      <th>3</th>\n",
       "      <td>1.331124e+13</td>\n",
       "      <td>1.331124e+09</td>\n",
       "      <td>1997.0</td>\n",
       "      <td>1990.0</td>\n",
       "      <td>2.174752</td>\n",
       "      <td>0.159561</td>\n",
       "    </tr>\n",
       "    <tr>\n",
       "      <th>4</th>\n",
       "      <td>1.331124e+13</td>\n",
       "      <td>1.331124e+09</td>\n",
       "      <td>1995.0</td>\n",
       "      <td>1990.0</td>\n",
       "      <td>2.174752</td>\n",
       "      <td>0.147677</td>\n",
       "    </tr>\n",
       "  </tbody>\n",
       "</table>\n",
       "</div>"
      ],
      "text/plain": [
       "         pin_12           pin  yrbuilt      cc       lLV      lFSI\n",
       "0  1.331307e+13  1.331307e+09   1925.0  1920.0 -0.510826 -1.403821\n",
       "1  1.331124e+13  1.331124e+09   1995.0  1990.0  2.174752  0.151158\n",
       "2  1.331124e+13  1.331124e+09   1997.0  1990.0  2.174752  0.140062\n",
       "3  1.331124e+13  1.331124e+09   1997.0  1990.0  2.174752  0.159561\n",
       "4  1.331124e+13  1.331124e+09   1995.0  1990.0  2.174752  0.147677"
      ]
     },
     "execution_count": 5,
     "metadata": {},
     "output_type": "execute_result"
    }
   ],
   "source": [
    "pin.head()"
   ]
  },
  {
   "cell_type": "code",
   "execution_count": 6,
   "id": "b9474311",
   "metadata": {},
   "outputs": [
    {
     "data": {
      "text/plain": [
       "0       222.370804\n",
       "1       222.083099\n",
       "2       222.089325\n",
       "3       223.207932\n",
       "4       223.228317\n",
       "           ...    \n",
       "1732    222.416153\n",
       "1733    222.405655\n",
       "1734    221.336533\n",
       "1735    221.442520\n",
       "1736    221.468307\n",
       "Name: x_build_coord, Length: 1737, dtype: float32"
      ]
     },
     "execution_count": 6,
     "metadata": {},
     "output_type": "execute_result"
    }
   ],
   "source": [
    "buildings['x_build_coord']"
   ]
  },
  {
   "cell_type": "code",
   "execution_count": 7,
   "id": "3312179a",
   "metadata": {},
   "outputs": [
    {
     "data": {
      "text/plain": [
       "grid_id         int32\n",
       "latitude      float32\n",
       "longitude     float32\n",
       "x_coord       float32\n",
       "y_coord       float32\n",
       "lv1913        float32\n",
       "lv1926        float32\n",
       "lv1932        float32\n",
       "lv1939        float32\n",
       "lv1949        float32\n",
       "lv1961        float32\n",
       "lv1971        float32\n",
       "lv1981        float32\n",
       "lv1990        float32\n",
       "lv2000        float32\n",
       "lv2009        float32\n",
       "lv1873        float32\n",
       "lv1892        float32\n",
       "llv1913       float32\n",
       "llv1926       float32\n",
       "llv1932       float32\n",
       "llv1939       float32\n",
       "llv1949       float32\n",
       "llv1961       float32\n",
       "llv1971       float32\n",
       "llv1981       float32\n",
       "llv1990       float32\n",
       "llv1873       float64\n",
       "llv1892       float64\n",
       "llv2000       float64\n",
       "llv2009       float64\n",
       "nllv1913      float32\n",
       "nllv1926      float32\n",
       "nllv1932      float32\n",
       "nllv1939      float32\n",
       "nllv1949      float32\n",
       "nllv1961      float32\n",
       "nllv1971      float32\n",
       "nllv1981      float32\n",
       "nllv1990      float32\n",
       "nllv1873      float64\n",
       "nllv1892      float64\n",
       "nllv2000      float64\n",
       "nllv2009      float64\n",
       "dist_cbd      float32\n",
       "ldist_cbd     float32\n",
       "dist_river    float64\n",
       "dist_lm       float32\n",
       "ldist_lm      float64\n",
       "dtype: object"
      ]
     },
     "execution_count": 7,
     "metadata": {},
     "output_type": "execute_result"
    }
   ],
   "source": [
    "grid_wide.dtypes"
   ]
  },
  {
   "cell_type": "code",
   "execution_count": 8,
   "id": "49a55b4a",
   "metadata": {},
   "outputs": [],
   "source": [
    "def create_grid_square(row):\n",
    "    n = row.y_coord + 165\n",
    "    s = row.y_coord - 165\n",
    "    w = row.x_coord + 165\n",
    "    e = row.x_coord - 165\n",
    "    polygon = geometry.Polygon([[w, n], [e, n], [e, s], [w, s]])\n",
    "    return polygon\n",
    "\n",
    "geometries = grid_wide.apply(create_grid_square, axis=1)"
   ]
  },
  {
   "cell_type": "code",
   "execution_count": 9,
   "id": "00d65f02",
   "metadata": {},
   "outputs": [],
   "source": [
    "grid_gdf = gpd.GeoDataFrame(grid_wide, geometry=geometries, crs=\"ESRI:102671\")"
   ]
  },
  {
   "cell_type": "code",
   "execution_count": 10,
   "id": "56b77dbc",
   "metadata": {},
   "outputs": [],
   "source": [
    "columns_to_drop = ['dist_cbd', 'ldist_cbd', 'dist_river', 'dist_lm', \"ldist_lm\"]\n",
    "for prefix in [\"llv\", 'nllv']:\n",
    "    for year in [1873, 1892, 1913, 1926, 1932, 1939, 1949, 1961, 1971, 1981, 1990, 2000, 2009]:\n",
    "        columns_to_drop.append(prefix + str(year))\n",
    "        "
   ]
  },
  {
   "cell_type": "code",
   "execution_count": 11,
   "id": "cc014f36",
   "metadata": {},
   "outputs": [],
   "source": [
    "grid_gdf.drop(inplace=True, columns=columns_to_drop)"
   ]
  },
  {
   "cell_type": "code",
   "execution_count": 12,
   "id": "0c511d0b",
   "metadata": {},
   "outputs": [],
   "source": [
    "grid_gdf.to_file(\"../data/olcott_land_values.geojson\", driver=\"GeoJSON\")"
   ]
  }
 ],
 "metadata": {
  "kernelspec": {
   "display_name": "Python 3 (ipykernel)",
   "language": "python",
   "name": "python3"
  },
  "language_info": {
   "codemirror_mode": {
    "name": "ipython",
    "version": 3
   },
   "file_extension": ".py",
   "mimetype": "text/x-python",
   "name": "python",
   "nbconvert_exporter": "python",
   "pygments_lexer": "ipython3",
   "version": "3.8.13"
  }
 },
 "nbformat": 4,
 "nbformat_minor": 5
}
